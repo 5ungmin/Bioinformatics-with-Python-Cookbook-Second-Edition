{
  "nbformat": 4,
  "nbformat_minor": 0,
  "metadata": {
    "colab": {
      "name": "ch02_2.ipynb",
      "provenance": [],
      "collapsed_sections": [],
      "authorship_tag": "ABX9TyOamXdPmvN/CWfm1kS6zQFq",
      "include_colab_link": true
    },
    "kernelspec": {
      "name": "python3",
      "display_name": "Python 3"
    },
    "language_info": {
      "name": "python"
    }
  },
  "cells": [
    {
      "cell_type": "markdown",
      "metadata": {
        "id": "view-in-github",
        "colab_type": "text"
      },
      "source": [
        "<a href=\"https://colab.research.google.com/github/5ungmin/Bioinformatics-with-Python-Cookbook-Second-Edition/blob/master/ch02_2.ipynb\" target=\"_parent\"><img src=\"https://colab.research.google.com/assets/colab-badge.svg\" alt=\"Open In Colab\"/></a>"
      ]
    },
    {
      "cell_type": "markdown",
      "source": [
        "# Chapter 2: NGS\n",
        "(2) Performing basic sequence analysis"
      ],
      "metadata": {
        "id": "b9rX3TMoZeSP"
      }
    },
    {
      "cell_type": "markdown",
      "source": [
        "We will use the **human Lactase (LCT) gene** as an example. <br/>\n",
        "Our example sequence is available on the Biopython sequence record."
      ],
      "metadata": {
        "id": "mHVm3NN4ll4o"
      }
    },
    {
      "cell_type": "code",
      "execution_count": null,
      "metadata": {
        "colab": {
          "base_uri": "https://localhost:8080/"
        },
        "id": "m1LpieeqS4XQ",
        "outputId": "81077af0-ae05-449d-868e-26cefbddfc25"
      },
      "outputs": [
        {
          "output_type": "stream",
          "name": "stdout",
          "text": [
            "Collecting biopython\n",
            "  Downloading biopython-1.79-cp37-cp37m-manylinux_2_5_x86_64.manylinux1_x86_64.whl (2.3 MB)\n",
            "\u001b[?25l\r\u001b[K     |▏                               | 10 kB 19.2 MB/s eta 0:00:01\r\u001b[K     |▎                               | 20 kB 23.2 MB/s eta 0:00:01\r\u001b[K     |▍                               | 30 kB 28.5 MB/s eta 0:00:01\r\u001b[K     |▋                               | 40 kB 31.9 MB/s eta 0:00:01\r\u001b[K     |▊                               | 51 kB 34.9 MB/s eta 0:00:01\r\u001b[K     |▉                               | 61 kB 36.1 MB/s eta 0:00:01\r\u001b[K     |█                               | 71 kB 28.1 MB/s eta 0:00:01\r\u001b[K     |█▏                              | 81 kB 29.5 MB/s eta 0:00:01\r\u001b[K     |█▎                              | 92 kB 30.2 MB/s eta 0:00:01\r\u001b[K     |█▍                              | 102 kB 30.7 MB/s eta 0:00:01\r\u001b[K     |█▋                              | 112 kB 30.7 MB/s eta 0:00:01\r\u001b[K     |█▊                              | 122 kB 30.7 MB/s eta 0:00:01\r\u001b[K     |█▉                              | 133 kB 30.7 MB/s eta 0:00:01\r\u001b[K     |██                              | 143 kB 30.7 MB/s eta 0:00:01\r\u001b[K     |██▏                             | 153 kB 30.7 MB/s eta 0:00:01\r\u001b[K     |██▎                             | 163 kB 30.7 MB/s eta 0:00:01\r\u001b[K     |██▍                             | 174 kB 30.7 MB/s eta 0:00:01\r\u001b[K     |██▋                             | 184 kB 30.7 MB/s eta 0:00:01\r\u001b[K     |██▊                             | 194 kB 30.7 MB/s eta 0:00:01\r\u001b[K     |██▉                             | 204 kB 30.7 MB/s eta 0:00:01\r\u001b[K     |███                             | 215 kB 30.7 MB/s eta 0:00:01\r\u001b[K     |███▏                            | 225 kB 30.7 MB/s eta 0:00:01\r\u001b[K     |███▎                            | 235 kB 30.7 MB/s eta 0:00:01\r\u001b[K     |███▌                            | 245 kB 30.7 MB/s eta 0:00:01\r\u001b[K     |███▋                            | 256 kB 30.7 MB/s eta 0:00:01\r\u001b[K     |███▊                            | 266 kB 30.7 MB/s eta 0:00:01\r\u001b[K     |███▉                            | 276 kB 30.7 MB/s eta 0:00:01\r\u001b[K     |████                            | 286 kB 30.7 MB/s eta 0:00:01\r\u001b[K     |████▏                           | 296 kB 30.7 MB/s eta 0:00:01\r\u001b[K     |████▎                           | 307 kB 30.7 MB/s eta 0:00:01\r\u001b[K     |████▌                           | 317 kB 30.7 MB/s eta 0:00:01\r\u001b[K     |████▋                           | 327 kB 30.7 MB/s eta 0:00:01\r\u001b[K     |████▊                           | 337 kB 30.7 MB/s eta 0:00:01\r\u001b[K     |████▉                           | 348 kB 30.7 MB/s eta 0:00:01\r\u001b[K     |█████                           | 358 kB 30.7 MB/s eta 0:00:01\r\u001b[K     |█████▏                          | 368 kB 30.7 MB/s eta 0:00:01\r\u001b[K     |█████▎                          | 378 kB 30.7 MB/s eta 0:00:01\r\u001b[K     |█████▌                          | 389 kB 30.7 MB/s eta 0:00:01\r\u001b[K     |█████▋                          | 399 kB 30.7 MB/s eta 0:00:01\r\u001b[K     |█████▊                          | 409 kB 30.7 MB/s eta 0:00:01\r\u001b[K     |██████                          | 419 kB 30.7 MB/s eta 0:00:01\r\u001b[K     |██████                          | 430 kB 30.7 MB/s eta 0:00:01\r\u001b[K     |██████▏                         | 440 kB 30.7 MB/s eta 0:00:01\r\u001b[K     |██████▎                         | 450 kB 30.7 MB/s eta 0:00:01\r\u001b[K     |██████▌                         | 460 kB 30.7 MB/s eta 0:00:01\r\u001b[K     |██████▋                         | 471 kB 30.7 MB/s eta 0:00:01\r\u001b[K     |██████▊                         | 481 kB 30.7 MB/s eta 0:00:01\r\u001b[K     |███████                         | 491 kB 30.7 MB/s eta 0:00:01\r\u001b[K     |███████                         | 501 kB 30.7 MB/s eta 0:00:01\r\u001b[K     |███████▏                        | 512 kB 30.7 MB/s eta 0:00:01\r\u001b[K     |███████▎                        | 522 kB 30.7 MB/s eta 0:00:01\r\u001b[K     |███████▌                        | 532 kB 30.7 MB/s eta 0:00:01\r\u001b[K     |███████▋                        | 542 kB 30.7 MB/s eta 0:00:01\r\u001b[K     |███████▊                        | 552 kB 30.7 MB/s eta 0:00:01\r\u001b[K     |████████                        | 563 kB 30.7 MB/s eta 0:00:01\r\u001b[K     |████████                        | 573 kB 30.7 MB/s eta 0:00:01\r\u001b[K     |████████▏                       | 583 kB 30.7 MB/s eta 0:00:01\r\u001b[K     |████████▍                       | 593 kB 30.7 MB/s eta 0:00:01\r\u001b[K     |████████▌                       | 604 kB 30.7 MB/s eta 0:00:01\r\u001b[K     |████████▋                       | 614 kB 30.7 MB/s eta 0:00:01\r\u001b[K     |████████▊                       | 624 kB 30.7 MB/s eta 0:00:01\r\u001b[K     |█████████                       | 634 kB 30.7 MB/s eta 0:00:01\r\u001b[K     |█████████                       | 645 kB 30.7 MB/s eta 0:00:01\r\u001b[K     |█████████▏                      | 655 kB 30.7 MB/s eta 0:00:01\r\u001b[K     |█████████▍                      | 665 kB 30.7 MB/s eta 0:00:01\r\u001b[K     |█████████▌                      | 675 kB 30.7 MB/s eta 0:00:01\r\u001b[K     |█████████▋                      | 686 kB 30.7 MB/s eta 0:00:01\r\u001b[K     |█████████▊                      | 696 kB 30.7 MB/s eta 0:00:01\r\u001b[K     |██████████                      | 706 kB 30.7 MB/s eta 0:00:01\r\u001b[K     |██████████                      | 716 kB 30.7 MB/s eta 0:00:01\r\u001b[K     |██████████▏                     | 727 kB 30.7 MB/s eta 0:00:01\r\u001b[K     |██████████▍                     | 737 kB 30.7 MB/s eta 0:00:01\r\u001b[K     |██████████▌                     | 747 kB 30.7 MB/s eta 0:00:01\r\u001b[K     |██████████▋                     | 757 kB 30.7 MB/s eta 0:00:01\r\u001b[K     |██████████▉                     | 768 kB 30.7 MB/s eta 0:00:01\r\u001b[K     |███████████                     | 778 kB 30.7 MB/s eta 0:00:01\r\u001b[K     |███████████                     | 788 kB 30.7 MB/s eta 0:00:01\r\u001b[K     |███████████▏                    | 798 kB 30.7 MB/s eta 0:00:01\r\u001b[K     |███████████▍                    | 808 kB 30.7 MB/s eta 0:00:01\r\u001b[K     |███████████▌                    | 819 kB 30.7 MB/s eta 0:00:01\r\u001b[K     |███████████▋                    | 829 kB 30.7 MB/s eta 0:00:01\r\u001b[K     |███████████▉                    | 839 kB 30.7 MB/s eta 0:00:01\r\u001b[K     |████████████                    | 849 kB 30.7 MB/s eta 0:00:01\r\u001b[K     |████████████                    | 860 kB 30.7 MB/s eta 0:00:01\r\u001b[K     |████████████▏                   | 870 kB 30.7 MB/s eta 0:00:01\r\u001b[K     |████████████▍                   | 880 kB 30.7 MB/s eta 0:00:01\r\u001b[K     |████████████▌                   | 890 kB 30.7 MB/s eta 0:00:01\r\u001b[K     |████████████▋                   | 901 kB 30.7 MB/s eta 0:00:01\r\u001b[K     |████████████▉                   | 911 kB 30.7 MB/s eta 0:00:01\r\u001b[K     |█████████████                   | 921 kB 30.7 MB/s eta 0:00:01\r\u001b[K     |█████████████                   | 931 kB 30.7 MB/s eta 0:00:01\r\u001b[K     |█████████████▎                  | 942 kB 30.7 MB/s eta 0:00:01\r\u001b[K     |█████████████▍                  | 952 kB 30.7 MB/s eta 0:00:01\r\u001b[K     |█████████████▌                  | 962 kB 30.7 MB/s eta 0:00:01\r\u001b[K     |█████████████▋                  | 972 kB 30.7 MB/s eta 0:00:01\r\u001b[K     |█████████████▉                  | 983 kB 30.7 MB/s eta 0:00:01\r\u001b[K     |██████████████                  | 993 kB 30.7 MB/s eta 0:00:01\r\u001b[K     |██████████████                  | 1.0 MB 30.7 MB/s eta 0:00:01\r\u001b[K     |██████████████▎                 | 1.0 MB 30.7 MB/s eta 0:00:01\r\u001b[K     |██████████████▍                 | 1.0 MB 30.7 MB/s eta 0:00:01\r\u001b[K     |██████████████▌                 | 1.0 MB 30.7 MB/s eta 0:00:01\r\u001b[K     |██████████████▋                 | 1.0 MB 30.7 MB/s eta 0:00:01\r\u001b[K     |██████████████▉                 | 1.1 MB 30.7 MB/s eta 0:00:01\r\u001b[K     |███████████████                 | 1.1 MB 30.7 MB/s eta 0:00:01\r\u001b[K     |███████████████                 | 1.1 MB 30.7 MB/s eta 0:00:01\r\u001b[K     |███████████████▎                | 1.1 MB 30.7 MB/s eta 0:00:01\r\u001b[K     |███████████████▍                | 1.1 MB 30.7 MB/s eta 0:00:01\r\u001b[K     |███████████████▌                | 1.1 MB 30.7 MB/s eta 0:00:01\r\u001b[K     |███████████████▊                | 1.1 MB 30.7 MB/s eta 0:00:01\r\u001b[K     |███████████████▉                | 1.1 MB 30.7 MB/s eta 0:00:01\r\u001b[K     |████████████████                | 1.1 MB 30.7 MB/s eta 0:00:01\r\u001b[K     |████████████████                | 1.1 MB 30.7 MB/s eta 0:00:01\r\u001b[K     |████████████████▎               | 1.2 MB 30.7 MB/s eta 0:00:01\r\u001b[K     |████████████████▍               | 1.2 MB 30.7 MB/s eta 0:00:01\r\u001b[K     |████████████████▌               | 1.2 MB 30.7 MB/s eta 0:00:01\r\u001b[K     |████████████████▊               | 1.2 MB 30.7 MB/s eta 0:00:01\r\u001b[K     |████████████████▉               | 1.2 MB 30.7 MB/s eta 0:00:01\r\u001b[K     |█████████████████               | 1.2 MB 30.7 MB/s eta 0:00:01\r\u001b[K     |█████████████████               | 1.2 MB 30.7 MB/s eta 0:00:01\r\u001b[K     |█████████████████▎              | 1.2 MB 30.7 MB/s eta 0:00:01\r\u001b[K     |█████████████████▍              | 1.2 MB 30.7 MB/s eta 0:00:01\r\u001b[K     |█████████████████▌              | 1.2 MB 30.7 MB/s eta 0:00:01\r\u001b[K     |█████████████████▊              | 1.3 MB 30.7 MB/s eta 0:00:01\r\u001b[K     |█████████████████▉              | 1.3 MB 30.7 MB/s eta 0:00:01\r\u001b[K     |██████████████████              | 1.3 MB 30.7 MB/s eta 0:00:01\r\u001b[K     |██████████████████▏             | 1.3 MB 30.7 MB/s eta 0:00:01\r\u001b[K     |██████████████████▎             | 1.3 MB 30.7 MB/s eta 0:00:01\r\u001b[K     |██████████████████▍             | 1.3 MB 30.7 MB/s eta 0:00:01\r\u001b[K     |██████████████████▌             | 1.3 MB 30.7 MB/s eta 0:00:01\r\u001b[K     |██████████████████▊             | 1.3 MB 30.7 MB/s eta 0:00:01\r\u001b[K     |██████████████████▉             | 1.3 MB 30.7 MB/s eta 0:00:01\r\u001b[K     |███████████████████             | 1.4 MB 30.7 MB/s eta 0:00:01\r\u001b[K     |███████████████████▏            | 1.4 MB 30.7 MB/s eta 0:00:01\r\u001b[K     |███████████████████▎            | 1.4 MB 30.7 MB/s eta 0:00:01\r\u001b[K     |███████████████████▍            | 1.4 MB 30.7 MB/s eta 0:00:01\r\u001b[K     |███████████████████▌            | 1.4 MB 30.7 MB/s eta 0:00:01\r\u001b[K     |███████████████████▊            | 1.4 MB 30.7 MB/s eta 0:00:01\r\u001b[K     |███████████████████▉            | 1.4 MB 30.7 MB/s eta 0:00:01\r\u001b[K     |████████████████████            | 1.4 MB 30.7 MB/s eta 0:00:01\r\u001b[K     |████████████████████▏           | 1.4 MB 30.7 MB/s eta 0:00:01\r\u001b[K     |████████████████████▎           | 1.4 MB 30.7 MB/s eta 0:00:01\r\u001b[K     |████████████████████▍           | 1.5 MB 30.7 MB/s eta 0:00:01\r\u001b[K     |████████████████████▋           | 1.5 MB 30.7 MB/s eta 0:00:01\r\u001b[K     |████████████████████▊           | 1.5 MB 30.7 MB/s eta 0:00:01\r\u001b[K     |████████████████████▉           | 1.5 MB 30.7 MB/s eta 0:00:01\r\u001b[K     |█████████████████████           | 1.5 MB 30.7 MB/s eta 0:00:01\r\u001b[K     |█████████████████████▏          | 1.5 MB 30.7 MB/s eta 0:00:01\r\u001b[K     |█████████████████████▎          | 1.5 MB 30.7 MB/s eta 0:00:01\r\u001b[K     |█████████████████████▍          | 1.5 MB 30.7 MB/s eta 0:00:01\r\u001b[K     |█████████████████████▋          | 1.5 MB 30.7 MB/s eta 0:00:01\r\u001b[K     |█████████████████████▊          | 1.5 MB 30.7 MB/s eta 0:00:01\r\u001b[K     |█████████████████████▉          | 1.6 MB 30.7 MB/s eta 0:00:01\r\u001b[K     |██████████████████████          | 1.6 MB 30.7 MB/s eta 0:00:01\r\u001b[K     |██████████████████████▏         | 1.6 MB 30.7 MB/s eta 0:00:01\r\u001b[K     |██████████████████████▎         | 1.6 MB 30.7 MB/s eta 0:00:01\r\u001b[K     |██████████████████████▍         | 1.6 MB 30.7 MB/s eta 0:00:01\r\u001b[K     |██████████████████████▋         | 1.6 MB 30.7 MB/s eta 0:00:01\r\u001b[K     |██████████████████████▊         | 1.6 MB 30.7 MB/s eta 0:00:01\r\u001b[K     |██████████████████████▉         | 1.6 MB 30.7 MB/s eta 0:00:01\r\u001b[K     |███████████████████████         | 1.6 MB 30.7 MB/s eta 0:00:01\r\u001b[K     |███████████████████████▏        | 1.6 MB 30.7 MB/s eta 0:00:01\r\u001b[K     |███████████████████████▎        | 1.7 MB 30.7 MB/s eta 0:00:01\r\u001b[K     |███████████████████████▍        | 1.7 MB 30.7 MB/s eta 0:00:01\r\u001b[K     |███████████████████████▋        | 1.7 MB 30.7 MB/s eta 0:00:01\r\u001b[K     |███████████████████████▊        | 1.7 MB 30.7 MB/s eta 0:00:01\r\u001b[K     |███████████████████████▉        | 1.7 MB 30.7 MB/s eta 0:00:01\r\u001b[K     |████████████████████████        | 1.7 MB 30.7 MB/s eta 0:00:01\r\u001b[K     |████████████████████████▏       | 1.7 MB 30.7 MB/s eta 0:00:01\r\u001b[K     |████████████████████████▎       | 1.7 MB 30.7 MB/s eta 0:00:01\r\u001b[K     |████████████████████████▍       | 1.7 MB 30.7 MB/s eta 0:00:01\r\u001b[K     |████████████████████████▋       | 1.8 MB 30.7 MB/s eta 0:00:01\r\u001b[K     |████████████████████████▊       | 1.8 MB 30.7 MB/s eta 0:00:01\r\u001b[K     |████████████████████████▉       | 1.8 MB 30.7 MB/s eta 0:00:01\r\u001b[K     |█████████████████████████       | 1.8 MB 30.7 MB/s eta 0:00:01\r\u001b[K     |█████████████████████████▏      | 1.8 MB 30.7 MB/s eta 0:00:01\r\u001b[K     |█████████████████████████▎      | 1.8 MB 30.7 MB/s eta 0:00:01\r\u001b[K     |█████████████████████████▌      | 1.8 MB 30.7 MB/s eta 0:00:01\r\u001b[K     |█████████████████████████▋      | 1.8 MB 30.7 MB/s eta 0:00:01\r\u001b[K     |█████████████████████████▊      | 1.8 MB 30.7 MB/s eta 0:00:01\r\u001b[K     |█████████████████████████▉      | 1.8 MB 30.7 MB/s eta 0:00:01\r\u001b[K     |██████████████████████████      | 1.9 MB 30.7 MB/s eta 0:00:01\r\u001b[K     |██████████████████████████▏     | 1.9 MB 30.7 MB/s eta 0:00:01\r\u001b[K     |██████████████████████████▎     | 1.9 MB 30.7 MB/s eta 0:00:01\r\u001b[K     |██████████████████████████▌     | 1.9 MB 30.7 MB/s eta 0:00:01\r\u001b[K     |██████████████████████████▋     | 1.9 MB 30.7 MB/s eta 0:00:01\r\u001b[K     |██████████████████████████▊     | 1.9 MB 30.7 MB/s eta 0:00:01\r\u001b[K     |██████████████████████████▉     | 1.9 MB 30.7 MB/s eta 0:00:01\r\u001b[K     |███████████████████████████     | 1.9 MB 30.7 MB/s eta 0:00:01\r\u001b[K     |███████████████████████████▏    | 1.9 MB 30.7 MB/s eta 0:00:01\r\u001b[K     |███████████████████████████▎    | 1.9 MB 30.7 MB/s eta 0:00:01\r\u001b[K     |███████████████████████████▌    | 2.0 MB 30.7 MB/s eta 0:00:01\r\u001b[K     |███████████████████████████▋    | 2.0 MB 30.7 MB/s eta 0:00:01\r\u001b[K     |███████████████████████████▊    | 2.0 MB 30.7 MB/s eta 0:00:01\r\u001b[K     |████████████████████████████    | 2.0 MB 30.7 MB/s eta 0:00:01\r\u001b[K     |████████████████████████████    | 2.0 MB 30.7 MB/s eta 0:00:01\r\u001b[K     |████████████████████████████▏   | 2.0 MB 30.7 MB/s eta 0:00:01\r\u001b[K     |████████████████████████████▎   | 2.0 MB 30.7 MB/s eta 0:00:01\r\u001b[K     |████████████████████████████▌   | 2.0 MB 30.7 MB/s eta 0:00:01\r\u001b[K     |████████████████████████████▋   | 2.0 MB 30.7 MB/s eta 0:00:01\r\u001b[K     |████████████████████████████▊   | 2.0 MB 30.7 MB/s eta 0:00:01\r\u001b[K     |█████████████████████████████   | 2.1 MB 30.7 MB/s eta 0:00:01\r\u001b[K     |█████████████████████████████   | 2.1 MB 30.7 MB/s eta 0:00:01\r\u001b[K     |█████████████████████████████▏  | 2.1 MB 30.7 MB/s eta 0:00:01\r\u001b[K     |█████████████████████████████▎  | 2.1 MB 30.7 MB/s eta 0:00:01\r\u001b[K     |█████████████████████████████▌  | 2.1 MB 30.7 MB/s eta 0:00:01\r\u001b[K     |█████████████████████████████▋  | 2.1 MB 30.7 MB/s eta 0:00:01\r\u001b[K     |█████████████████████████████▊  | 2.1 MB 30.7 MB/s eta 0:00:01\r\u001b[K     |██████████████████████████████  | 2.1 MB 30.7 MB/s eta 0:00:01\r\u001b[K     |██████████████████████████████  | 2.1 MB 30.7 MB/s eta 0:00:01\r\u001b[K     |██████████████████████████████▏ | 2.2 MB 30.7 MB/s eta 0:00:01\r\u001b[K     |██████████████████████████████▍ | 2.2 MB 30.7 MB/s eta 0:00:01\r\u001b[K     |██████████████████████████████▌ | 2.2 MB 30.7 MB/s eta 0:00:01\r\u001b[K     |██████████████████████████████▋ | 2.2 MB 30.7 MB/s eta 0:00:01\r\u001b[K     |██████████████████████████████▊ | 2.2 MB 30.7 MB/s eta 0:00:01\r\u001b[K     |███████████████████████████████ | 2.2 MB 30.7 MB/s eta 0:00:01\r\u001b[K     |███████████████████████████████ | 2.2 MB 30.7 MB/s eta 0:00:01\r\u001b[K     |███████████████████████████████▏| 2.2 MB 30.7 MB/s eta 0:00:01\r\u001b[K     |███████████████████████████████▍| 2.2 MB 30.7 MB/s eta 0:00:01\r\u001b[K     |███████████████████████████████▌| 2.2 MB 30.7 MB/s eta 0:00:01\r\u001b[K     |███████████████████████████████▋| 2.3 MB 30.7 MB/s eta 0:00:01\r\u001b[K     |███████████████████████████████▊| 2.3 MB 30.7 MB/s eta 0:00:01\r\u001b[K     |████████████████████████████████| 2.3 MB 30.7 MB/s eta 0:00:01\r\u001b[K     |████████████████████████████████| 2.3 MB 30.7 MB/s \n",
            "\u001b[?25hRequirement already satisfied: numpy in /usr/local/lib/python3.7/dist-packages (from biopython) (1.19.5)\n",
            "Installing collected packages: biopython\n",
            "Successfully installed biopython-1.79\n"
          ]
        }
      ],
      "source": [
        "!pip3 install biopython\n",
        "from Bio import Entrez, SeqIO\n",
        "Entrez.email = 'angela1017@naver.com'"
      ]
    },
    {
      "cell_type": "code",
      "source": [
        "# Lactase gene\n",
        "hdl = Entrez.efetch(db='nucleotide', id=['NM_002299'], rettype='fasta')\n",
        "seq = SeqIO.read(hdl, 'fasta')"
      ],
      "metadata": {
        "id": "2-oF5PAnmZd2"
      },
      "execution_count": null,
      "outputs": []
    },
    {
      "cell_type": "code",
      "source": [
        "# 이건 그냥 내가 테스트해본 것\n",
        "print(seq)"
      ],
      "metadata": {
        "colab": {
          "base_uri": "https://localhost:8080/"
        },
        "id": "p2kHUm2emqr4",
        "outputId": "037a9f76-33b1-4343-9556-44a7f224f973"
      },
      "execution_count": null,
      "outputs": [
        {
          "output_type": "stream",
          "name": "stdout",
          "text": [
            "ID: NM_002299.4\n",
            "Name: NM_002299.4\n",
            "Description: NM_002299.4 Homo sapiens lactase (LCT), mRNA\n",
            "Number of features: 0\n",
            "Seq('AACAGTTCCTAGAAAATGGAGCTGTCTTGGCATGTAGTCTTTATTGCCCTGCTA...GTC')\n"
          ]
        }
      ]
    },
    {
      "cell_type": "code",
      "source": [
        "w_hdl = open('example.fasta', 'w')\n",
        "w_seq = seq[11:5795]\n",
        "SeqIO.write([w_seq], w_hdl, 'fasta') # sequence 여러개를 리스트로 받아서 씀. (여기서는 시퀀스 1개)\n",
        "w_hdl.close()"
      ],
      "metadata": {
        "id": "9zqPAhxXnrGR"
      },
      "execution_count": null,
      "outputs": []
    },
    {
      "cell_type": "markdown",
      "source": [
        "`SeqIO.write()`의 경우 시퀀스가 굉장히 많을 때 리스트를 사용하면 메모리를 많이 잡아먹으니 반복문을 사용하자. <br/>\n",
        "위 코드는 파일에 쓰는 코드. 근데 보통 fasta 파일을 쓰는 것보다 읽어들일 경우가 많겠지? 읽어들여보자."
      ],
      "metadata": {
        "id": "-SpwzOn4pdim"
      }
    },
    {
      "cell_type": "code",
      "source": [
        "recs = SeqIO.parse('example.fasta', 'fasta')\n",
        "for rec in recs:\n",
        "    seq = rec.seq\n",
        "    print(rec.description)\n",
        "    print(seq[:10])\n",
        "    # print(seq.alphabet) alphabet이라는 속성이 없다고 한다."
      ],
      "metadata": {
        "colab": {
          "base_uri": "https://localhost:8080/"
        },
        "id": "fNQmirSYpphr",
        "outputId": "226af6e2-fac9-4410-abce-769047df0346"
      },
      "execution_count": null,
      "outputs": [
        {
          "output_type": "stream",
          "name": "stdout",
          "text": [
            "NM_002299.4 Homo sapiens lactase (LCT), mRNA\n",
            "GAAAATGGAG\n"
          ]
        }
      ]
    },
    {
      "cell_type": "code",
      "source": [
        "from Bio import Seq\n",
        "# from Bio.Alphabet import IUPAC\n",
        "'''\n",
        "ImportError: Bio.Alphabet has been removed from Biopython. \n",
        "In many cases, the alphabet can simply be ignored and removed from scripts. \n",
        "In a few cases, you may need to specify the ``molecule_type`` \n",
        "as an annotation on a SeqRecord for your script to work correctly. \n",
        "Please see https://biopython.org/wiki/Alphabet for more information.\n",
        "'''\n",
        "\n",
        "# seq = Seq.Seq(str(seq), IUPAC.unambiguous_dna)"
      ],
      "metadata": {
        "id": "wQnQoduods5v"
      },
      "execution_count": null,
      "outputs": []
    },
    {
      "cell_type": "code",
      "source": [
        "# sequence를 TC해서 RNA seq 얻을 수 있다.\n",
        "rna = seq.transcribe()\n",
        "print(rna)"
      ],
      "metadata": {
        "colab": {
          "base_uri": "https://localhost:8080/"
        },
        "id": "iB83VYaWg3sA",
        "outputId": "2fa039fa-fa16-412a-97a0-6d15ffd2aba2"
      },
      "execution_count": null,
      "outputs": [
        {
          "output_type": "stream",
          "name": "stdout",
          "text": [
            "GAAAAUGGAGCUGUCUUGGCAUGUAGUCUUUAUUGCCCUGCUAAGUUUUUCAUGCUGGGGGUCAGACUGGGAGUCUGAUAGAAAUUUCAUUUCCACCGCUGGUCCUCUAACCAAUGACUUGCUGCACAACCUGAGUGGUCUCCUGGGAGACCAGAGUUCUAACUUUGUAGCAGGGGACAAAGACAUGUAUGUUUGUCACCAGCCACUGCCCACUUUCCUGCCAGAAUACUUCAGCAGUCUCCAUGCCAGUCAGAUCACCCAUUAUAAGGUAUUUCUGUCAUGGGCACAGCUCCUCCCAGCAGGAAGCACCCAGAAUCCAGACGAGAAAACAGUGCAGUGCUACCGGCGACUCCUCAAGGCCCUCAAGACUGCACGGCUUCAGCCCAUGGUCAUCCUGCACCACCAGACCCUCCCUGCCAGCACCCUCCGGAGAACCGAAGCCUUUGCUGACCUCUUCGCCGACUAUGCCACAUUCGCCUUCCACUCCUUCGGGGACCUAGUUGGGAUCUGGUUCACCUUCAGUGACUUGGAGGAAGUGAUCAAGGAGCUUCCCCACCAGGAAUCAAGAGCGUCACAACUCCAGACCCUCAGUGAUGCCCACAGAAAAGCCUAUGAGAUUUACCACGAAAGCUAUGCUUUUCAGGGCGGAAAACUCUCUGUUGUCCUGCGAGCUGAAGAUAUCCCGGAGCUCCUGCUAGAACCACCCAUAUCUGCGCUUGCCCAGGACACGGUCGAUUUCCUCUCUCUUGAUUUGUCUUAUGAAUGCCAAAAUGAGGCAAGUCUGCGGCAGAAGCUGAGUAAAUUGCAGACCAUUGAGCCAAAAGUGAAAGUUUUCAUCUUCAACCUAAAACUCCCAGACUGCCCCUCCACCAUGAAGAACCCAGCCAGUCUGCUCUUCAGCCUUUUUGAAGCCAUAAAUAAAGACCAAGUGCUCACCAUUGGGUUUGAUAUUAAUGAGUUUCUGAGUUGUUCAUCAAGUUCCAAGAAAAGCAUGUCUUGUUCUCUGACUGGCAGCCUGGCCCUUCAGCCUGACCAGCAGCAGGACCACGAGACCACGGACUCCUCUCCUGCCUCUGCCUAUCAGAGAAUCUGGGAAGCAUUUGCCAAUCAGUCCAGGGCGGAAAGGGAUGCCUUCCUGCAGGAUACUUUCCCUGAAGGCUUCCUCUGGGGUGCCUCCACAGGAGCCUUUAACGUGGAAGGAGGCUGGGCCGAGGGUGGGAGAGGGGUGAGCAUCUGGGAUCCACGCAGGCCCCUGAACACCACUGAGGGCCAAGCGACGCUGGAGGUGGCCAGCGACAGUUACCACAAGGUAGCCUCUGACGUCGCCCUGCUUUGCGGCCUCCGGGCUCAGGUGUACAAGUUCUCCAUCUCCUGGUCCCGGAUCUUCCCCAUGGGGCACGGGAGCAGCCCCAGCCUCCCAGGCGUUGCCUACUACAACAAGCUGAUUGACAGGCUACAGGAUGCGGGCAUCGAGCCCAUGGCCACGCUGUUCCACUGGGACCUGCCUCAGGCCCUGCAGGAUCAUGGUGGAUGGCAGAAUGAGAGCGUGGUGGAUGCCUUCCUGGACUAUGCGGCCUUCUGCUUCUCCACAUUUGGGGACCGUGUGAAGCUGUGGGUGACCUUCCAUGAGCCGUGGGUGAUGAGCUACGCAGGCUAUGGCACCGGCCAGCACCCUCCCGGCAUCUCUGACCCAGGAGUGGCCUCUUUUAAGGUGGCUCACUUGGUCCUCAAGGCUCAUGCCAGAACUUGGCACCACUACAACAGCCAUCAUCGCCCACAGCAGCAGGGGCACGUGGGCAUUGUGCUGAACUCAGACUGGGCAGAACCCCUGUCUCCAGAGAGGCCUGAGGACCUGAGAGCCUCUGAGCGCUUCUUGCACUUCAUGCUGGGCUGGUUUGCACACCCCGUCUUUGUGGAUGGAGACUACCCAGCCACCCUGAGGACCCAGAUCCAACAGAUGAACAGACAGUGCUCCCAUCCUGUGGCUCAACUCCCCGAGUUCACAGAGGCAGAGAAGCAGCUCCUGAAAGGCUCUGCUGAUUUUCUGGGUCUGUCGCAUUACACCUCCCGCCUCAUCAGCAACGCCCCACAAAACACCUGCAUCCCUAGCUAUGAUACCAUUGGAGGCUUCUCCCAACACGUGAACCAUGUGUGGCCCCAGACCUCAUCCUCUUGGAUUCGUGUGGUGCCCUGGGGGAUAAGGAGGCUGUUGCAGUUUGUAUCCCUGGAAUACACAAGAGGAAAAGUUCCAAUAUACCUUGCCGGGAAUGGCAUGCCCAUAGGGGAAAGUGAAAAUCUCUUUGAUGAUUCCUUAAGAGUAGACUACUUCAAUCAAUAUAUCAAUGAGGUGCUCAAGGCUAUCAAGGAAGACUCUGUGGAUGUUCGUUCCUACAUUGCUCGUUCCCUCAUUGAUGGCUUCGAAGGCCCUUCUGGUUACAGCCAGCGGUUUGGCCUGCACCACGUCAACUUCAGCGACAGCAGCAAGUCAAGGACUCCCAGGAAAUCUGCCUACUUUUUCACUAGCAUCAUAGAAAAGAACGGUUUCCUCACCAAGGGGGCAAAAAGACUGCUACCACCUAAUACAGUAAACCUCCCCUCCAAAGUCAGAGCCUUCACUUUUCCAUCUGAGGUGCCCUCCAAGGCUAAAGUCGUUUGGGAAAAGUUCUCCAGCCAACCCAAGUUCGAAAGAGAUUUGUUCUACCACGGGACGUUUCGGGAUGACUUUCUGUGGGGCGUGUCCUCUUCCGCUUAUCAGAUUGAAGGCGCGUGGGAUGCCGAUGGCAAAGGCCCCAGCAUCUGGGAUAACUUUACCCACACACCAGGGAGCAAUGUGAAAGACAAUGCCACUGGAGACAUCGCCUGUGACAGCUAUCACCAGCUGGAUGCCGAUCUGAAUAUGCUCCGAGCUUUGAAGGUGAAGGCCUACCGCUUCUCUAUCUCCUGGUCUCGGAUUUUCCCAACUGGGAGAAACAGCUCUAUCAACAGUCAUGGGGUUGAUUAUUACAACAGGCUGAUCAAUGGCUUGGUGGCAAGCAACAUCUUUCCCAUGGUGACAUUGUUCCAUUGGGACCUGCCCCAGGCCCUCCAGGAUAUCGGAGGCUGGGAGAAUCCUGCCUUGAUUGACUUGUUUGACAGCUACGCAGACUUUUGUUUCCAGACCUUUGGUGAUAGAGUCAAGUUUUGGAUGACUUUUAAUGAGCCCAUGUACCUGGCAUGGCUAGGUUAUGGCUCAGGGGAAUUUCCCCCAGGGGUGAAGGACCCAGGCUGGGCACCAUAUAGGAUAGCCCACGCCGUCAUCAAAGCCCAUGCCAGAGUCUAUCACACGUACGAUGAGAAAUACAGGCAGGAGCAGAAGGGGGUCAUCUCGCUGAGCCUCAGUACACACUGGGCAGAGCCCAAGUCACCAGGGGUCCCCAGAGAUGUGGAAGCCGCUGACCGAAUGCUGCAGUUCUCCCUGGGCUGGUUUGCUCACCCCAUUUUUAGAAACGGAGACUAUCCUGACACCAUGAAGUGGAAAGUGGGGAACAGGAGUGAACUGCAGCACUUAGCCACCUCCCGCCUGCCAAGCUUCACUGAGGAAGAGAAGAGGUUCAUCAGGGCGACGGCCGACGUCUUCUGCCUCAACACGUACUACUCCAGAAUCGUGCAGCACAAAACACCCAGGCUAAACCCACCCUCCUACGAAGACGACCAGGAGAUGGCUGAGGAGGAGGACCCUUCGUGGCCUUCCACGGCAAUGAACAGAGCUGCGCCCUGGGGGACGCGAAGGCUGCUGAACUGGAUCAAGGAAGAGUAUGGUGACAUCCCCAUUUACAUCACCGAAAACGGAGUGGGGCUGACCAAUCCGAACACGGAGGAUACUGAUAGGAUAUUUUACCACAAAACCUACAUCAAUGAGGCUUUGAAAGCCUACAGGCUCGAUGGUAUAGACCUUCGAGGGUAUGUCGCCUGGUCUCUGAUGGACAACUUUGAGUGGCUAAAUGGCUACACGGUCAAGUUUGGACUGUACCAUGUUGAUUUCAACAACACGAACAGGCCUCGCACAGCAAGAGCCUCCGCCAGGUACUACACAGAGGUCAUUACCAACAACGGCAUGCCACUGGCCAGGGAGGAUGAGUUUCUGUACGGACGGUUUCCUGAGGGCUUCAUCUGGAGUGCAGCUUCUGCUGCAUAUCAGAUUGAAGGUGCGUGGAGAGCAGAUGGCAAAGGACUCAGCAUUUGGGACACGUUUUCUCACACACCACUGAGGGUUGAGAACGAUGCCAUUGGAGACGUGGCCUGUGACAGUUAUCACAAGAUUGCUGAGGAUCUGGUCACCCUGCAGAACCUGGGCGUGUCCCACUACCGUUUUUCCAUCUCCUGGUCUCGCAUCCUCCCUGAUGGAACCACCAGGUACAUCAAUGAAGCGGGCCUGAACUACUACGUGAGGCUCAUCGAUACACUGCUGGCCGCCAGCAUCCAGCCCCAGGUGACCAUUUACCACUGGGACCUACCACAGACGCUCCAAGAUGUAGGAGGCUGGGAGAAUGAGACCAUCGUGCAGCGGUUUAAGGAGUAUGCAGAUGUGCUCUUCCAGAGGCUGGGAGACAAGGUGAAGUUUUGGAUCACGCUGAAUGAGCCCUUUGUCAUUGCUUACCAGGGCUAUGGCUACGGAACAGCAGCUCCAGGAGUCUCCAAUAGGCCUGGCACUGCCCCCUACAUUGUUGGCCACAAUCUAAUAAAGGCUCAUGCUGAGGCCUGGCAUCUGUACAACGAUGUGUACCGCGCCAGUCAAGGUGGCGUGAUUUCCAUCACCAUCAGCAGUGACUGGGCUGAACCCAGAGAUCCCUCUAACCAGGAGGAUGUGGAGGCAGCCAGGAGAUAUGUUCAGUUCAUGGGAGGCUGGUUUGCACAUCCUAUUUUCAAGAAUGGAGAUUACAAUGAGGUGAUGAAGACGCGGAUCCGUGACAGGAGCUUGGCUGCAGGCCUCAACAAGUCUCGGCUGCCAGAAUUUACAGAGAGUGAGAAGAGGAGGAUCAACGGCACCUAUGACUUUUUUGGGUUCAAUCACUACACCACUGUCCUCGCCUACAACCUCAACUAUGCCACUGCCAUCUCUUCUUUUGAUGCAGACAGAGGAGUUGCUUCCAUCGCAGAUCGCUCGUGGCCAGACUCUGGCUCCUUCUGGCUGAAGAUGACGCCUUUUGGCUUCAGGAGGAUCCUGAACUGGUUAAAGGAGGAAUACAAUGACCCUCCAAUUUAUGUCACAGAGAAUGGAGUGUCCCAGCGGGAAGAAACAGACCUCAAUGACACUGCAAGGAUCUACUACCUUCGGACUUACAUCAAUGAGGCCCUCAAAGCUGUGCAGGACAAGGUGGACCUUCGAGGAUACACAGUUUGGAGUGCGAUGGACAAUUUUGAGUGGGCCACAGGCUUUUCAGAGAGAUUUGGUCUGCAUUUUGUGAACUACAGUGACCCUUCUCUGCCAAGGAUCCCCAAAGCAUCAGCGAAGUUCUACGCCUCUGUGGUCCGAUGCAAUGGCUUCCCUGACCCCGCUACAGGGCCUCACGCUUGUCUCCACCAGCCAGAUGCUGGACCCACCAUCAGCCCCGUGAGACAGGAGGAGGUGCAGUUCCUGGGGCUAAUGCUCGGCACCACAGAAGCACAGACAGCUUUGUACGUUCUCUUUUCUCUUGUGCUUCUUGGAGUCUGUGGCUUGGCAUUUCUGUCAUACAAGUACUGCAAGCGCUCUAAGCAAGGGAAAACACAACGAAGCCAACAGGAAUUGAGCCCGGUGUCUUCAUU\n"
          ]
        }
      ]
    },
    {
      "cell_type": "code",
      "source": [
        "# sequence를 TL해서 protein seq도 얻을 수 있다.\n",
        "prot = seq.translate()\n",
        "print(prot)"
      ],
      "metadata": {
        "colab": {
          "base_uri": "https://localhost:8080/"
        },
        "id": "CrKTI1mvg6YT",
        "outputId": "9078293d-4540-4f43-e8fa-b9eafa9070b7"
      },
      "execution_count": null,
      "outputs": [
        {
          "output_type": "stream",
          "name": "stdout",
          "text": [
            "ENGAVLACSLYCPAKFFMLGVRLGV**KFHFHRWSSNQ*LAAQPEWSPGRPEF*LCSRGQRHVCLSPATAHFPARILQQSPCQSDHPL*GISVMGTAPPSRKHPESRRENSAVLPATPQGPQDCTASAHGHPAPPDPPCQHPPENRSLC*PLRRLCHIRLPLLRGPSWDLVHLQ*LGGSDQGASPPGIKSVTTPDPQ*CPQKSL*DLPRKLCFSGRKTLCCPAS*RYPGAPARTTHICACPGHGRFPLS*FVL*MPK*GKSAAEAE*IADH*AKSESFHLQPKTPRLPLHHEEPSQSALQPF*SHK*RPSAHHWV*Y**VSELFIKFQEKHVLFSDWQPGPSA*PAAGPRDHGLLSCLCLSENLGSICQSVQGGKGCLPAGYFP*RLPLGCLHRSL*RGRRLGRGWERGEHLGSTQAPEHH*GPSDAGGGQRQLPQGSL*RRPALRPPGSGVQVLHLLVPDLPHGAREQPQPPRRCLLQQAD*QATGCGHRAHGHAVPLGPASGPAGSWWMAE*ERGGCLPGLCGLLLLHIWGPCEAVGDLP*AVGDELRRLWHRPAPSRHL*PRSGLF*GGSLGPQGSCQNLAPLQQPSSPTAAGARGHCAELRLGRTPVSREA*GPESL*ALLALHAGLVCTPRLCGWRLPSHPEDPDPTDEQTVLPSCGSTPRVHRGREAAPERLC*FSGSVALHLPPHQQRPTKHLHP*L*YHWRLLPTREPCVAPDLILLDSCGALGDKEAVAVCIPGIHKRKSSNIPCREWHAHRGK*KSL**FLKSRLLQSIYQ*GAQGYQGRLCGCSFLHCSFPH*WLRRPFWLQPAVWPAPRQLQRQQQVKDSQEICLLFH*HHRKERFPHQGGKKTATT*YSKPPLQSQSLHFSI*GALQG*SRLGKVLQPTQVRKRFVLPRDVSG*LSVGRVLFRLSD*RRVGCRWQRPQHLG*LYPHTREQCERQCHWRHRL*QLSPAGCRSEYAPSFEGEGLPLLYLLVSDFPNWEKQLYQQSWG*LLQQADQWLGGKQHLSHGDIVPLGPAPGPPGYRRLGESCLD*LV*QLRRLLFPDLW**SQVLDDF**AHVPGMARLWLRGISPRGEGPRLGTI*DSPRRHQSPCQSLSHVR*EIQAGAEGGHLAEPQYTLGRAQVTRGPQRCGSR*PNAAVLPGLVCSPHF*KRRLS*HHEVESGEQE*TAALSHLPPAKLH*GREEVHQGDGRRLLPQHVLLQNRAAQNTQAKPTLLRRRPGDG*GGGPFVAFHGNEQSCALGDAKAAELDQGRVW*HPHLHHRKRSGADQSEHGGY**DILPQNLHQ*GFESLQARWYRPSRVCRLVSDGQL*VAKWLHGQVWTVPC*FQQHEQASHSKSLRQVLHRGHYQQRHATGQGG*VSVRTVS*GLHLECSFCCISD*RCVESRWQRTQHLGHVFSHTTEG*ERCHWRRGL*QLSQDC*GSGHPAEPGRVPLPFFHLLVSHPP*WNHQVHQ*SGPELLREAHRYTAGRQHPAPGDHLPLGPTTDAPRCRRLGE*DHRAAV*GVCRCALPEAGRQGEVLDHAE*ALCHCLPGLWLRNSSSRSLQ*AWHCPLHCWPQSNKGSC*GLASVQRCVPRQSRWRDFHHHQQ*LG*TQRSL*PGGCGGSQEICSVHGRLVCTSYFQEWRLQ*GDEDADP*QELGCRPQQVSAARIYRE*EEEDQRHL*LFWVQSLHHCPRLQPQLCHCHLFF*CRQRSCFHRRSLVARLWLLLAEDDAFWLQEDPELVKGGIQ*PSNLCHREWSVPAGRNRPQ*HCKDLLPSDLHQ*GPQSCAGQGGPSRIHSLECDGQF*VGHRLFREIWSAFCELQ*PFSAKDPQSISEVLRLCGPMQWLP*PRYRASRLSPPARCWTHHQPRETGGGAVPGANARHHRSTDSFVRSLFSCASWSLWLGISVIQVLQAL*ARENTTKPTGIEPGVFI\n"
          ]
        }
      ]
    }
  ]
}